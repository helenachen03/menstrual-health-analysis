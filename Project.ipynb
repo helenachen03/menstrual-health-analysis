{
 "cells": [
  {
   "cell_type": "markdown",
   "id": "a73ad476-6217-456b-81b7-84c34271e0c2",
   "metadata": {},
   "source": [
    "# Data Manipulation"
   ]
  },
  {
   "cell_type": "markdown",
   "id": "70db4746-b7fb-4e94-ba51-f9224b89c059",
   "metadata": {},
   "source": [
    "## Primary Dataset\n",
    "\n",
    "### Menstrual Cycle Regularity\n",
    "\n",
    "Menstrual cycle regularity in the past 12 months was assessed by asking participants whether they experienced regular periods. Participants were classified as having regular cycles if they reported consistent menstrual bleeding patterns. Participants who reported irregular cycles were classified as having irregular cycles, provided that no notable medical or physiological reasons were present.\n",
    "\n",
    "**Participants were excluded from the irregularity classification if they had conditions or circumstances that naturally prevent menstruation, including: pregnancy, postpartum or breastfeeding-related amenorrhea, hysterectomy, or menopause.** This approach ensures that the measure of cycle irregularity reflects only those individuals for whom menstrual cycles would be expected under normal conditions."
   ]
  },
  {
   "cell_type": "code",
   "execution_count": 341,
   "id": "28d84742-2b23-4bac-b1dd-3bf94a8c9e4b",
   "metadata": {},
   "outputs": [
    {
     "name": "stdout",
     "output_type": "stream",
     "text": [
      "(5314, 32)\n",
      "(3917, 13)\n"
     ]
    }
   ],
   "source": [
    "import pandas as pd\n",
    "\n",
    "# Load primary dataset XPT file\n",
    "cycle_17_to_pre20 = pd.read_sas(\"data/P_RHQ.XPT\")\n",
    "cycle_21_to_23 = pd.read_sas(\"data/RHQ_L.XPT\")\n",
    "\n",
    "# See what’s inside\n",
    "print(cycle_17_to_pre20.shape)\n",
    "print(cycle_21_to_23.shape)"
   ]
  },
  {
   "cell_type": "code",
   "execution_count": 342,
   "id": "7d7ae1aa-9866-4bda-86d5-e97512ef1da0",
   "metadata": {},
   "outputs": [],
   "source": [
    "# Find overlapping columns\n",
    "common_cols = cycle_17_to_pre20.columns.intersection(cycle_21_to_23.columns)\n",
    "\n",
    "# Keep only overlapping columns\n",
    "cycle = pd.concat([cycle_17_to_pre20[common_cols], cycle_21_to_23[common_cols]], axis=0, ignore_index=True)"
   ]
  },
  {
   "cell_type": "code",
   "execution_count": 343,
   "id": "b1d7842e-c4a3-4b42-ad4f-6eb0f5142d68",
   "metadata": {},
   "outputs": [
    {
     "data": {
      "text/html": [
       "<div>\n",
       "<style scoped>\n",
       "    .dataframe tbody tr th:only-of-type {\n",
       "        vertical-align: middle;\n",
       "    }\n",
       "\n",
       "    .dataframe tbody tr th {\n",
       "        vertical-align: top;\n",
       "    }\n",
       "\n",
       "    .dataframe thead th {\n",
       "        text-align: right;\n",
       "    }\n",
       "</style>\n",
       "<table border=\"1\" class=\"dataframe\">\n",
       "  <thead>\n",
       "    <tr style=\"text-align: right;\">\n",
       "      <th></th>\n",
       "      <th>SEQN</th>\n",
       "      <th>RHQ010</th>\n",
       "      <th>RHQ031</th>\n",
       "      <th>RHD043</th>\n",
       "      <th>RHQ060</th>\n",
       "      <th>RHQ078</th>\n",
       "      <th>RHQ131</th>\n",
       "      <th>RHD143</th>\n",
       "      <th>RHD167</th>\n",
       "      <th>RHQ200</th>\n",
       "      <th>RHD280</th>\n",
       "      <th>RHQ305</th>\n",
       "      <th>RHQ332</th>\n",
       "    </tr>\n",
       "  </thead>\n",
       "  <tbody>\n",
       "    <tr>\n",
       "      <th>0</th>\n",
       "      <td>109264.0</td>\n",
       "      <td>12.0</td>\n",
       "      <td>1.0</td>\n",
       "      <td>NaN</td>\n",
       "      <td>NaN</td>\n",
       "      <td>NaN</td>\n",
       "      <td>NaN</td>\n",
       "      <td>NaN</td>\n",
       "      <td>NaN</td>\n",
       "      <td>NaN</td>\n",
       "      <td>NaN</td>\n",
       "      <td>NaN</td>\n",
       "      <td>NaN</td>\n",
       "    </tr>\n",
       "    <tr>\n",
       "      <th>1</th>\n",
       "      <td>109266.0</td>\n",
       "      <td>13.0</td>\n",
       "      <td>1.0</td>\n",
       "      <td>NaN</td>\n",
       "      <td>NaN</td>\n",
       "      <td>2.0</td>\n",
       "      <td>2.0</td>\n",
       "      <td>NaN</td>\n",
       "      <td>NaN</td>\n",
       "      <td>NaN</td>\n",
       "      <td>2.0</td>\n",
       "      <td>2.0</td>\n",
       "      <td>NaN</td>\n",
       "    </tr>\n",
       "    <tr>\n",
       "      <th>2</th>\n",
       "      <td>109277.0</td>\n",
       "      <td>11.0</td>\n",
       "      <td>1.0</td>\n",
       "      <td>NaN</td>\n",
       "      <td>NaN</td>\n",
       "      <td>NaN</td>\n",
       "      <td>NaN</td>\n",
       "      <td>NaN</td>\n",
       "      <td>NaN</td>\n",
       "      <td>NaN</td>\n",
       "      <td>NaN</td>\n",
       "      <td>NaN</td>\n",
       "      <td>NaN</td>\n",
       "    </tr>\n",
       "    <tr>\n",
       "      <th>3</th>\n",
       "      <td>109279.0</td>\n",
       "      <td>12.0</td>\n",
       "      <td>1.0</td>\n",
       "      <td>NaN</td>\n",
       "      <td>NaN</td>\n",
       "      <td>NaN</td>\n",
       "      <td>NaN</td>\n",
       "      <td>NaN</td>\n",
       "      <td>NaN</td>\n",
       "      <td>NaN</td>\n",
       "      <td>NaN</td>\n",
       "      <td>NaN</td>\n",
       "      <td>NaN</td>\n",
       "    </tr>\n",
       "    <tr>\n",
       "      <th>4</th>\n",
       "      <td>109284.0</td>\n",
       "      <td>9.0</td>\n",
       "      <td>1.0</td>\n",
       "      <td>NaN</td>\n",
       "      <td>NaN</td>\n",
       "      <td>2.0</td>\n",
       "      <td>1.0</td>\n",
       "      <td>2.0</td>\n",
       "      <td>4.0</td>\n",
       "      <td>NaN</td>\n",
       "      <td>2.0</td>\n",
       "      <td>2.0</td>\n",
       "      <td>NaN</td>\n",
       "    </tr>\n",
       "    <tr>\n",
       "      <th>...</th>\n",
       "      <td>...</td>\n",
       "      <td>...</td>\n",
       "      <td>...</td>\n",
       "      <td>...</td>\n",
       "      <td>...</td>\n",
       "      <td>...</td>\n",
       "      <td>...</td>\n",
       "      <td>...</td>\n",
       "      <td>...</td>\n",
       "      <td>...</td>\n",
       "      <td>...</td>\n",
       "      <td>...</td>\n",
       "      <td>...</td>\n",
       "    </tr>\n",
       "    <tr>\n",
       "      <th>9226</th>\n",
       "      <td>142301.0</td>\n",
       "      <td>12.0</td>\n",
       "      <td>2.0</td>\n",
       "      <td>7.0</td>\n",
       "      <td>52.0</td>\n",
       "      <td>NaN</td>\n",
       "      <td>NaN</td>\n",
       "      <td>NaN</td>\n",
       "      <td>NaN</td>\n",
       "      <td>NaN</td>\n",
       "      <td>2.0</td>\n",
       "      <td>2.0</td>\n",
       "      <td>NaN</td>\n",
       "    </tr>\n",
       "    <tr>\n",
       "      <th>9227</th>\n",
       "      <td>142303.0</td>\n",
       "      <td>13.0</td>\n",
       "      <td>2.0</td>\n",
       "      <td>3.0</td>\n",
       "      <td>38.0</td>\n",
       "      <td>NaN</td>\n",
       "      <td>NaN</td>\n",
       "      <td>NaN</td>\n",
       "      <td>NaN</td>\n",
       "      <td>NaN</td>\n",
       "      <td>1.0</td>\n",
       "      <td>1.0</td>\n",
       "      <td>40.0</td>\n",
       "    </tr>\n",
       "    <tr>\n",
       "      <th>9228</th>\n",
       "      <td>142305.0</td>\n",
       "      <td>NaN</td>\n",
       "      <td>NaN</td>\n",
       "      <td>NaN</td>\n",
       "      <td>NaN</td>\n",
       "      <td>NaN</td>\n",
       "      <td>NaN</td>\n",
       "      <td>NaN</td>\n",
       "      <td>NaN</td>\n",
       "      <td>NaN</td>\n",
       "      <td>NaN</td>\n",
       "      <td>NaN</td>\n",
       "      <td>NaN</td>\n",
       "    </tr>\n",
       "    <tr>\n",
       "      <th>9229</th>\n",
       "      <td>142307.0</td>\n",
       "      <td>12.0</td>\n",
       "      <td>2.0</td>\n",
       "      <td>3.0</td>\n",
       "      <td>38.0</td>\n",
       "      <td>2.0</td>\n",
       "      <td>1.0</td>\n",
       "      <td>NaN</td>\n",
       "      <td>3.0</td>\n",
       "      <td>NaN</td>\n",
       "      <td>1.0</td>\n",
       "      <td>2.0</td>\n",
       "      <td>NaN</td>\n",
       "    </tr>\n",
       "    <tr>\n",
       "      <th>9230</th>\n",
       "      <td>142310.0</td>\n",
       "      <td>12.0</td>\n",
       "      <td>2.0</td>\n",
       "      <td>3.0</td>\n",
       "      <td>50.0</td>\n",
       "      <td>NaN</td>\n",
       "      <td>NaN</td>\n",
       "      <td>NaN</td>\n",
       "      <td>NaN</td>\n",
       "      <td>NaN</td>\n",
       "      <td>1.0</td>\n",
       "      <td>2.0</td>\n",
       "      <td>NaN</td>\n",
       "    </tr>\n",
       "  </tbody>\n",
       "</table>\n",
       "<p>9231 rows × 13 columns</p>\n",
       "</div>"
      ],
      "text/plain": [
       "          SEQN  RHQ010  RHQ031  RHD043  RHQ060  RHQ078  RHQ131  RHD143  \\\n",
       "0     109264.0    12.0     1.0     NaN     NaN     NaN     NaN     NaN   \n",
       "1     109266.0    13.0     1.0     NaN     NaN     2.0     2.0     NaN   \n",
       "2     109277.0    11.0     1.0     NaN     NaN     NaN     NaN     NaN   \n",
       "3     109279.0    12.0     1.0     NaN     NaN     NaN     NaN     NaN   \n",
       "4     109284.0     9.0     1.0     NaN     NaN     2.0     1.0     2.0   \n",
       "...        ...     ...     ...     ...     ...     ...     ...     ...   \n",
       "9226  142301.0    12.0     2.0     7.0    52.0     NaN     NaN     NaN   \n",
       "9227  142303.0    13.0     2.0     3.0    38.0     NaN     NaN     NaN   \n",
       "9228  142305.0     NaN     NaN     NaN     NaN     NaN     NaN     NaN   \n",
       "9229  142307.0    12.0     2.0     3.0    38.0     2.0     1.0     NaN   \n",
       "9230  142310.0    12.0     2.0     3.0    50.0     NaN     NaN     NaN   \n",
       "\n",
       "      RHD167  RHQ200  RHD280  RHQ305  RHQ332  \n",
       "0        NaN     NaN     NaN     NaN     NaN  \n",
       "1        NaN     NaN     2.0     2.0     NaN  \n",
       "2        NaN     NaN     NaN     NaN     NaN  \n",
       "3        NaN     NaN     NaN     NaN     NaN  \n",
       "4        4.0     NaN     2.0     2.0     NaN  \n",
       "...      ...     ...     ...     ...     ...  \n",
       "9226     NaN     NaN     2.0     2.0     NaN  \n",
       "9227     NaN     NaN     1.0     1.0    40.0  \n",
       "9228     NaN     NaN     NaN     NaN     NaN  \n",
       "9229     3.0     NaN     1.0     2.0     NaN  \n",
       "9230     NaN     NaN     1.0     2.0     NaN  \n",
       "\n",
       "[9231 rows x 13 columns]"
      ]
     },
     "execution_count": 343,
     "metadata": {},
     "output_type": "execute_result"
    }
   ],
   "source": [
    "cycle"
   ]
  },
  {
   "cell_type": "code",
   "execution_count": 344,
   "id": "10b205a3-a2a3-464c-928e-fba3f1f92916",
   "metadata": {},
   "outputs": [],
   "source": [
    "# Map values (others become NaN automatically)\n",
    "cycle[\"regular_mapped\"] = cycle[\"RHQ031\"].map({1: \"Yes\", 2: \"No\"})"
   ]
  },
  {
   "cell_type": "code",
   "execution_count": 345,
   "id": "5d4f7339-0287-41d2-9ea1-5f634e7480aa",
   "metadata": {},
   "outputs": [
    {
     "data": {
      "text/plain": [
       "1018"
      ]
     },
     "execution_count": 345,
     "metadata": {},
     "output_type": "execute_result"
    }
   ],
   "source": [
    "cycle[\"regular_mapped\"].isna().sum()"
   ]
  },
  {
   "cell_type": "code",
   "execution_count": 346,
   "id": "6eb7c10f-84c3-444b-9f93-24bb23b2538a",
   "metadata": {},
   "outputs": [
    {
     "data": {
      "text/plain": [
       "9231"
      ]
     },
     "execution_count": 346,
     "metadata": {},
     "output_type": "execute_result"
    }
   ],
   "source": [
    "len(cycle[\"regular_mapped\"])"
   ]
  },
  {
   "cell_type": "code",
   "execution_count": 347,
   "id": "ab3eb511-d486-41fe-8ff8-b05c6bd54a17",
   "metadata": {},
   "outputs": [],
   "source": [
    "# Drop rows when whether the period is regular indicator is missing\n",
    "cycle.dropna(subset=[\"regular_mapped\"], inplace=True)"
   ]
  },
  {
   "cell_type": "code",
   "execution_count": 348,
   "id": "18552203-ce8a-4f8d-ba31-6483da0cf566",
   "metadata": {},
   "outputs": [],
   "source": [
    "# Drop rows where RHD043 is in Pregnancy (1), Breast feeding(2), Hysterectomy(3) and Menopause/Change of life(7)\n",
    "cycle = cycle[~cycle['RHD043'].isin([1, 2, 3, 7])]"
   ]
  },
  {
   "cell_type": "code",
   "execution_count": 349,
   "id": "83936477-dda2-4ffa-ab71-6ad9dcb1a068",
   "metadata": {},
   "outputs": [
    {
     "data": {
      "text/plain": [
       "regular_mapped\n",
       "Yes    4063\n",
       "No      396\n",
       "Name: count, dtype: int64"
      ]
     },
     "execution_count": 349,
     "metadata": {},
     "output_type": "execute_result"
    }
   ],
   "source": [
    "cycle['regular_mapped'].value_counts()"
   ]
  },
  {
   "cell_type": "code",
   "execution_count": 350,
   "id": "bc51b727-4b94-45ab-b85f-b91951354ff4",
   "metadata": {},
   "outputs": [],
   "source": [
    "cycle = cycle[['SEQN','regular_mapped']]"
   ]
  },
  {
   "cell_type": "markdown",
   "id": "bd66505b-5e45-46c5-b9f0-f4ece989b597",
   "metadata": {},
   "source": [
    "## Secondary Dataset\n",
    "- Body Measures (height, weight, BMI) - Ying\n",
    "- Smoking (smoking status, frequency, history) - Miranda\n",
    "- Physical Activity (activity type, frequency, duration, intensity) - Tanisha\n",
    "- Demographics (age, race/ethnicity, education, income) - Ying\n",
    "- Dietary Data (diet quality, caloric and nutrient intake) - Miranda\n",
    "- Sleep Disorders (sleep quality, trouble sleeping, sleep duration) - Tanisha"
   ]
  },
  {
   "cell_type": "markdown",
   "id": "28953426-28a9-4d58-b3d6-daa833bd0732",
   "metadata": {},
   "source": [
    "#### Demographics (age, race/ethnicity, education, income)\n",
    "\n",
    "From the Demographic Dataset, we preserve variables that capture key background characteristics of participants. Specifically, we keep:\n",
    "\n",
    "- Gender (RIAGENDR)\n",
    "\n",
    "- Age (RIDAGEYR)\n",
    "\n",
    "- Race/Ethnicity (RIDRETH3)\n",
    "\n",
    "- Education (DMDEDUC2) – available only for respondents aged 20 years and older. For younger participants, values are coded as missing.\n",
    "\n",
    "- Income (INDFMPIR) – the ratio of family income to the poverty threshold. This is the only income variable in NHANES. A value of 1.0 indicates income exactly at the poverty line, values <1.0 indicate income below poverty, and values above 1.0 represent income above poverty. All values ≥5.0 are top-coded to 5.\n",
    "\n",
    "During cleaning, we:\n",
    "\n",
    "- Recode categorical variables (e.g., gender, race, and education) into readable labels.\n",
    "\n",
    "- Preserve income-to-poverty ratio as a continuous measure that can be further categorized if needed (e.g., below poverty, low income, middle income, high income)."
   ]
  },
  {
   "cell_type": "code",
   "execution_count": 363,
   "id": "be56847b-f38e-4530-a20b-4d1e86bff828",
   "metadata": {},
   "outputs": [],
   "source": [
    "# Load body measures dataset XPT file\n",
    "demo_17_to_pre20 = pd.read_sas(\"data/P_DEMO.XPT\")\n",
    "demo_21_to_23 = pd.read_sas(\"data/DEMO_L.XPT\")"
   ]
  },
  {
   "cell_type": "code",
   "execution_count": 364,
   "id": "14994b1e-0254-4044-8a23-7ad474a4f71e",
   "metadata": {},
   "outputs": [],
   "source": [
    "# Find overlapping columns\n",
    "common_cols = demo_17_to_pre20.columns.intersection(demo_21_to_23.columns)\n",
    "\n",
    "# Keep only overlapping columns\n",
    "demo = pd.concat([demo_17_to_pre20[common_cols], demo_21_to_23[common_cols]], axis=0, ignore_index=True)"
   ]
  },
  {
   "cell_type": "code",
   "execution_count": 365,
   "id": "84d874e5-adf6-495d-bd18-2e17645743e7",
   "metadata": {},
   "outputs": [],
   "source": [
    "# Rename variables we will keep\n",
    "demo.rename(columns={\n",
    "    \"RIAGENDR\": \"Gender\",\n",
    "    \"RIDRETH3\": \"Race\",\n",
    "    \"RIDAGEYR\": \"Age\",\n",
    "    \"DMDEDUC2\": \"Education\",\n",
    "    \"INDFMPIR\": \"Ratio_of_family_income_to_poverty\"\n",
    "}, inplace=True)\n"
   ]
  },
  {
   "cell_type": "code",
   "execution_count": 366,
   "id": "bcf71fe9-27b0-4d23-b9bd-3d425cd623cc",
   "metadata": {},
   "outputs": [],
   "source": [
    "# Map categorical values\n",
    "demo[\"Gender\"] = demo[\"Gender\"].map({1: \"Male\", 2: \"Female\"})\n",
    "demo[\"Race\"] = demo[\"Race\"].map({1: \"Mexican American\", \n",
    "                                  2: \"Other Hispanic\",\n",
    "                                  3: \"Non-Hispanic White\", \n",
    "                                  4: \"Non-Hispanic Black\",\n",
    "                                  6: \"Non-Hispanic Asian\",\n",
    "                                  7: \"Other Race - Including Multi-Racial\"})\n",
    "demo[\"Education\"] = demo[\"Education\"].map({1: \"Less than 9th grade\",\n",
    "                                           2: \"9-11th grade\",\n",
    "                                           3: \"High school/GED\",\n",
    "                                           4: \"Some college/AA\",\n",
    "                                           5: \"College graduate or above\"})"
   ]
  },
  {
   "cell_type": "code",
   "execution_count": 367,
   "id": "b00ac61b-21e6-403c-9ddf-d9956ee2e3eb",
   "metadata": {},
   "outputs": [],
   "source": [
    "# Keep only relevant variables\n",
    "demo = demo[[\"SEQN\",\"Gender\", \"Race\",\"Age\",\"Education\",\"Ratio_of_family_income_to_poverty\"]]\n",
    "\n",
    "# Merge cycle and bmx on SEQN (common ID)\n",
    "merged = pd.merge(cycle, demo_subset, on='SEQN', how='left')"
   ]
  },
  {
   "cell_type": "markdown",
   "id": "918cc08f-f794-4452-9271-eefbaaf702fb",
   "metadata": {},
   "source": [
    "#### Body Measures (height, weight, BMI)\n",
    "\n",
    "From the Body Measures dataset, we preserve only BMI (BMXBMI), which captures the participant’s body mass relative to height. Height and weight are not retained separately since BMI already summarizes body size. "
   ]
  },
  {
   "cell_type": "code",
   "execution_count": 368,
   "id": "65d708bd-6e11-44e1-8822-8c93437a13e1",
   "metadata": {},
   "outputs": [],
   "source": [
    "# Load body measures dataset XPT file\n",
    "bodymeasures_17_to_pre20 = pd.read_sas(\"data/P_BMX.XPT\")\n",
    "bodymeasures_21_to_23 = pd.read_sas(\"data/BMX_L.XPT\")"
   ]
  },
  {
   "cell_type": "code",
   "execution_count": 369,
   "id": "338798bc-1c8b-4656-b614-6cd394118069",
   "metadata": {},
   "outputs": [],
   "source": [
    "# Find overlapping columns\n",
    "common_cols = bodymeasures_17_to_pre20.columns.intersection(bodymeasures_21_to_23.columns)\n",
    "\n",
    "# Keep only overlapping columns\n",
    "bodymeasures = pd.concat([bodymeasures_17_to_pre20[common_cols], bodymeasures_21_to_23[common_cols]], axis=0, ignore_index=True)"
   ]
  },
  {
   "cell_type": "code",
   "execution_count": 370,
   "id": "6fcfecbf-78fb-4ae4-bcda-3da8249087d1",
   "metadata": {},
   "outputs": [],
   "source": [
    "# Rename variables we will keep\n",
    "bodymeasures.rename(columns={\n",
    "    \"BMXBMI\": \"BMX\",\n",
    "}, inplace=True)"
   ]
  },
  {
   "cell_type": "code",
   "execution_count": 371,
   "id": "bf6e8b89-1af8-44a5-a160-2c79413a1ddf",
   "metadata": {},
   "outputs": [],
   "source": [
    "# Keep only relevant variables\n",
    "bodymeasures = bodymeasures[['SEQN','BMX']]\n",
    "# Merge cycle and bmx on SEQN (common ID)\n",
    "merged = pd.merge(merged, bodymeasures, on='SEQN', how='left')"
   ]
  },
  {
   "cell_type": "markdown",
   "id": "2be3bf36-e040-4efb-99da-a6592d3185ca",
   "metadata": {},
   "source": [
    "#### Smoking (smoking status, frequency, history)\n",
    "\n",
    "- What variables you have kept in the dataset and why?"
   ]
  },
  {
   "cell_type": "code",
   "execution_count": null,
   "id": "669c1fd8-cb07-469a-900a-858f567f14e2",
   "metadata": {},
   "outputs": [],
   "source": []
  },
  {
   "cell_type": "markdown",
   "id": "78c869f1-ff4d-42da-a913-215db419fdd4",
   "metadata": {},
   "source": [
    "#### Sleep Disorders\n",
    "- What variables you have kept in the sleep disorders dataset to join the cycle data and why?"
   ]
  },
  {
   "cell_type": "code",
   "execution_count": 1,
   "id": "e1cba8af-d595-4571-bf27-e206eeab80c0",
   "metadata": {},
   "outputs": [],
   "source": [
    "#Clean a dataset with only relevant sleep disorder variables\n",
    "#Join your cleaned dataset with the cycle dataset"
   ]
  }
 ],
 "metadata": {
  "kernelspec": {
   "display_name": "Python 3 (ipykernel)",
   "language": "python",
   "name": "python3"
  },
  "language_info": {
   "codemirror_mode": {
    "name": "ipython",
    "version": 3
   },
   "file_extension": ".py",
   "mimetype": "text/x-python",
   "name": "python",
   "nbconvert_exporter": "python",
   "pygments_lexer": "ipython3",
   "version": "3.10.18"
  }
 },
 "nbformat": 4,
 "nbformat_minor": 5
}
